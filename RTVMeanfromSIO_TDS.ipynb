{
 "cells": [
  {
   "cell_type": "markdown",
   "metadata": {},
   "source": [
    "# This notebook shows an example of calculating and visualizing the mean and variance from the latest USWC real time vector product from [HFRnet THREDDS server](http://hfrnet-tds.ucsd.edu/thredds/catalog.html)\n",
    "\n",
    "Call %matplotlib inline to have plots shown inline in the notebook\n",
    "\n",
    "%matplotlib inline must be called before any other packages are imported"
   ]
  },
  {
   "cell_type": "code",
   "execution_count": 1,
   "metadata": {},
   "outputs": [],
   "source": [
    "%matplotlib inline"
   ]
  },
  {
   "cell_type": "code",
   "execution_count": 2,
   "metadata": {},
   "outputs": [],
   "source": [
    "from netCDF4 import Dataset\n",
    "import numpy as np\n",
    "import matplotlib.pyplot as plt\n",
    "from matplotlib import colors,ticker\n",
    "from cartopy import crs,feature"
   ]
  },
  {
   "cell_type": "code",
   "execution_count": 3,
   "metadata": {},
   "outputs": [],
   "source": [
    "import xarray as xr\n",
    "import datetime\n",
    "import pandas as pd"
   ]
  },
  {
   "cell_type": "markdown",
   "metadata": {},
   "source": [
    "### load 6km USWC RTV dataset through THREDDS <br>Some other datasets are shown as commented lines below\n",
    "You must adjust your map parameters if you change regions\n",
    "\n",
    "### instead of the NetCDF4 library, we will use xarray to read file from TDS\n"
   ]
  },
  {
   "cell_type": "code",
   "execution_count": 4,
   "metadata": {},
   "outputs": [],
   "source": [
    "#USWC region\n",
    "netcdf_data = xr.open_dataset('http://hfrnet-tds.ucsd.edu/thredds/dodsC/HFR/USWC/6km/hourly/RTV/HFRADAR_US_West_Coast_6km_Resolution_Hourly_RTV_best.ncd')\n",
    "#netcdf_data = xr.open_dataset('http://hfrnet-tds.ucsd.edu/thredds/dodsC/HFR/USWC/1km/hourly/RTV/HFRADAR_US_West_Coast_1km_Resolution_Hourly_RTV_best.ncd')\n",
    "#netcdf_data = xr.open_dataset('http://hfrnet-tds.ucsd.edu/thredds/dodsC/HFR/USWC/2km/hourly/RTV/HFRADAR_US_West_Coast_2km_Resolution_Hourly_RTV_best.ncd')\n",
    "\n",
    "#USEGC region\n",
    "#netcdf_data = xr.open_dataset('http://hfrnet-tds.ucsd.edu/thredds/dodsC/HFR/USEGC/6km/hourly/RTV/HFRADAR_US_East_and_Gulf_Coast_6km_Resolution_Hourly_RTV_best.ncd')\n",
    "#netcdf_data = xr.open_dataset('http://hfrnet-tds.ucsd.edu/thredds/dodsC/HFR/USEGC/2km/hourly/RTV/HFRADAR_US_East_and_Gulf_Coast_2km_Resolution_Hourly_RTV_best.ncd')"
   ]
  },
  {
   "cell_type": "markdown",
   "metadata": {},
   "source": [
    "### list variables and dimensions"
   ]
  },
  {
   "cell_type": "code",
   "execution_count": 5,
   "metadata": {},
   "outputs": [
    {
     "data": {
      "text/plain": [
       "<xarray.Dataset>\n",
       "Dimensions:       (lat: 367, lon: 234, nProcParam: 7, nSites: 63, time: 61473)\n",
       "Coordinates:\n",
       "  * lat           (lat) float32 30.25 30.30394 30.35788 30.41182 30.46576 ...\n",
       "  * lon           (lon) float32 -130.36 -130.29753 -130.23506 -130.1726 ...\n",
       "  * time          (time) datetime64[ns] 2011-10-01 2011-10-01T01:00:00 ...\n",
       "    time_run      (time) datetime64[ns] ...\n",
       "Dimensions without coordinates: nProcParam, nSites\n",
       "Data variables:\n",
       "    site_lat      (nSites) float32 ...\n",
       "    site_lon      (nSites) float32 ...\n",
       "    site_code     (nSites) |S64 ...\n",
       "    site_netCode  (nSites) |S64 ...\n",
       "    procParams    (nProcParam) float32 ...\n",
       "    time_offset   (time) datetime64[ns] ...\n",
       "    u             (time, lat, lon) float32 ...\n",
       "    v             (time, lat, lon) float32 ...\n",
       "    DOPx          (time, lat, lon) float32 ...\n",
       "    DOPy          (time, lat, lon) float32 ...\n",
       "Attributes:\n",
       "    netcdf_library_version:  4.1.3\n",
       "    format_version:          HFRNet_1.0.0\n",
       "    product_version:         HFRNet_1.1.05\n",
       "    Conventions:             CF-1.4\n",
       "    title:                   Near-Real Time Surface Ocean Velocity, U.S. West...\n",
       "    institution:             Scripps Institution of Oceanography\n",
       "    source:                  Surface Ocean HF-Radar\n",
       "    history:                 07-Oct-2018 08:35:43: NetCDF file created\\n07-Oc...\n",
       "    references:              Terrill, E. et al., 2006. Data Management and Re...\n",
       "    creator_name:            Mark Otero\n",
       "    creator_email:           motero@ucsd.edu\n",
       "    creator_url:             http://cordc.ucsd.edu/projects/mapping/\n",
       "    summary:                 Surface ocean velocities estimated from HF-Radar...\n",
       "    geospatial_lat_min:      30.25\n",
       "    geospatial_lat_max:      49.99204\n",
       "    geospatial_lon_min:      -130.36\n",
       "    geospatial_lon_max:      -115.805565\n",
       "    grid_resolution:         6km\n",
       "    grid_projection:         equidistant cylindrical\n",
       "    regional_description:    Unites States, West Coast\n",
       "    _CoordSysBuilder:        ucar.nc2.dataset.conv.CF1Convention\n",
       "    cdm_data_type:           GRID\n",
       "    featureType:             GRID\n",
       "    location:                Proto fmrc:HFRADAR_US_West_Coast_6km_Resolution_...\n",
       "    DODS.strlen:             25\n",
       "    DODS.dimName:            nSites_maxStrlen"
      ]
     },
     "execution_count": 5,
     "metadata": {},
     "output_type": "execute_result"
    }
   ],
   "source": [
    "netcdf_data"
   ]
  },
  {
   "cell_type": "markdown",
   "metadata": {},
   "source": [
    "### Show variable information"
   ]
  },
  {
   "cell_type": "code",
   "execution_count": 6,
   "metadata": {},
   "outputs": [
    {
     "name": "stdout",
     "output_type": "stream",
     "text": [
      "<xarray.DataArray 'u' (time: 61473, lat: 367, lon: 234)>\n",
      "[5279178294 values with dtype=float32]\n",
      "Coordinates:\n",
      "  * lat       (lat) float32 30.25 30.30394 30.35788 30.41182 30.46576 ...\n",
      "  * lon       (lon) float32 -130.36 -130.29753 -130.23506 -130.1726 ...\n",
      "  * time      (time) datetime64[ns] 2011-10-01 2011-10-01T01:00:00 ...\n",
      "    time_run  (time) datetime64[ns] ...\n",
      "Attributes:\n",
      "    units:                m s-1\n",
      "    long_name:            surface_eastward_sea_water_velocity\n",
      "    standard_name:        surface_eastward_sea_water_velocity\n",
      "    ancillary_variables:  DOPx\n",
      "    _ChunkSizes:          [  1 367 234]\n",
      "<xarray.DataArray 'v' (time: 61473, lat: 367, lon: 234)>\n",
      "[5279178294 values with dtype=float32]\n",
      "Coordinates:\n",
      "  * lat       (lat) float32 30.25 30.30394 30.35788 30.41182 30.46576 ...\n",
      "  * lon       (lon) float32 -130.36 -130.29753 -130.23506 -130.1726 ...\n",
      "  * time      (time) datetime64[ns] 2011-10-01 2011-10-01T01:00:00 ...\n",
      "    time_run  (time) datetime64[ns] ...\n",
      "Attributes:\n",
      "    units:                m s-1\n",
      "    long_name:            surface_northward_sea_water_velocity\n",
      "    standard_name:        surface_northward_sea_water_velocity\n",
      "    ancillary_variables:  DOPy\n",
      "    _ChunkSizes:          [  1 367 234]\n",
      "<xarray.DataArray 'time' ()>\n",
      "array('2018-10-07T18:00:00.000000000', dtype='datetime64[ns]')\n"
     ]
    }
   ],
   "source": [
    "print(netcdf_data.u)\n",
    "print(netcdf_data.v)\n",
    "print(netcdf_data.time.max())\n"
   ]
  },
  {
   "cell_type": "markdown",
   "metadata": {},
   "source": [
    "### Grab lat, lon and time variables from dataset"
   ]
  },
  {
   "cell_type": "code",
   "execution_count": 7,
   "metadata": {},
   "outputs": [],
   "source": [
    "lat=netcdf_data.lat\n",
    "lon=netcdf_data.lon\n",
    "time=netcdf_data.time"
   ]
  },
  {
   "cell_type": "markdown",
   "metadata": {},
   "source": [
    "### Check time range of dataset"
   ]
  },
  {
   "cell_type": "code",
   "execution_count": 8,
   "metadata": {},
   "outputs": [
    {
     "name": "stdout",
     "output_type": "stream",
     "text": [
      "Dataset Start Time: 2011-10-01T00:00:00.000000000\n",
      "Dataset End Time: 2018-10-07T18:00:00.000000000\n"
     ]
    }
   ],
   "source": [
    "print(\"Dataset Start Time:\",time.values.min())\n",
    "print(\"Dataset End Time:\",time.values.max())"
   ]
  },
  {
   "cell_type": "markdown",
   "metadata": {},
   "source": [
    "### Set a time range for analysis<br>Use 7 days from latest observation"
   ]
  },
  {
   "cell_type": "code",
   "execution_count": 9,
   "metadata": {},
   "outputs": [
    {
     "name": "stdout",
     "output_type": "stream",
     "text": [
      "Analysis Start Time: 2018-09-30T18:00:00.000000000\n",
      "Analysis End Time: 2018-10-07T18:00:00.000000000\n"
     ]
    }
   ],
   "source": [
    "timeEnd=time.max()\n",
    "timeStart=timeEnd-np.timedelta64(7,'D')\n",
    "\n",
    "print(\"Analysis Start Time:\",timeStart.values)\n",
    "print(\"Analysis End Time:\",timeEnd.values)"
   ]
  },
  {
   "cell_type": "markdown",
   "metadata": {},
   "source": [
    "### Set geographical limits for the map"
   ]
  },
  {
   "cell_type": "code",
   "execution_count": 10,
   "metadata": {},
   "outputs": [],
   "source": [
    "latMax=37.0\n",
    "latMin=32.5\n",
    "lonMax=-117.0\n",
    "lonMin=-123.0"
   ]
  },
  {
   "cell_type": "markdown",
   "metadata": {},
   "source": [
    "### subset data using slices of time, lat and lon <br> Show values of dimensions"
   ]
  },
  {
   "cell_type": "code",
   "execution_count": 11,
   "metadata": {},
   "outputs": [
    {
     "name": "stdout",
     "output_type": "stream",
     "text": [
      "{'lat': 84, 'lon': 96, 'nProcParam': 7, 'nSites': 63, 'time': 169}\n"
     ]
    }
   ],
   "source": [
    "data=netcdf_data.sel(time=slice(timeStart,timeEnd),lat=slice(latMin,latMax),lon=slice(lonMin,lonMax))\n",
    "print(dict(data.dims))"
   ]
  },
  {
   "cell_type": "markdown",
   "metadata": {},
   "source": [
    "### Do some clean up on the data<br>Interpolate in time<br> find the mean<br>subtract mean from data obs<br>create complex timeseries"
   ]
  },
  {
   "cell_type": "code",
   "execution_count": 12,
   "metadata": {},
   "outputs": [],
   "source": [
    "# interpolate\n",
    "data['u_int']=data['u'].interpolate_na(dim='time')\n",
    "data['v_int']=data['v'].interpolate_na(dim='time')"
   ]
  },
  {
   "cell_type": "code",
   "execution_count": 13,
   "metadata": {},
   "outputs": [],
   "source": [
    "# find the means along the time axis\n",
    "data['u_mean']=data['u'].mean(dim='time')\n",
    "data['v_mean']=data['v'].mean(dim='time')\n",
    "data['u_var']=data['u'].var(dim='time')\n",
    "data['v_var']=data['v'].var(dim='time')\n",
    "data['u_dm']=data['u_int']-data['u_mean']\n",
    "data['v_dm']=data['u_int']-data['v_mean']"
   ]
  },
  {
   "cell_type": "code",
   "execution_count": 14,
   "metadata": {},
   "outputs": [],
   "source": [
    "# Create complex timeseries for rotary spectra\n",
    "data['uiv']=data['u_dm']+1j*data['v_dm']"
   ]
  },
  {
   "cell_type": "markdown",
   "metadata": {},
   "source": [
    "### Plot mean vectors"
   ]
  },
  {
   "cell_type": "code",
   "execution_count": null,
   "metadata": {},
   "outputs": [],
   "source": [
    "#calculate mean vectors \n",
    "meanMag=np.sqrt(data['u_mean']**2+data['v_mean']**2)\n",
    "meanDir=np.rad2deg(np.arctan2(data['v_mean'],data['u_mean']))\n",
    "\n",
    "# lat and lon for plotting\n",
    "lon,lat=np.meshgrid(data['lon'].values,data['lat'].values)"
   ]
  },
  {
   "cell_type": "code",
   "execution_count": null,
   "metadata": {},
   "outputs": [],
   "source": [
    "fig=plt.figure(figsize=(12,12))\n",
    "ax = plt.axes(projection=crs.PlateCarree())\n",
    "ax.gridlines(linewidth=.5, color='gray', alpha=0.5, linestyle='-')\n",
    "\n",
    "ax.set_title('Surface Current Mean')\n",
    "ax.set_extent([-122,-117,32.5,35])\n",
    "CF=ax.contourf(lon,lat,meanMag,12,norm=colors.PowerNorm(gamma=1./2.),cmap='jet')\n",
    "ax.contour(lon,lat,meanMag,12)\n",
    "ax.quiver(lon,lat,data['u_mean'],data['v_mean'],headlength=6,headwidth=3,pivot='mid',scale=10)\n",
    "ax.add_feature(feature.NaturalEarthFeature('physical', 'land', '10m', edgecolor='face',facecolor=feature.COLORS['land']))\n",
    "plt.colorbar(CF,label=\"Speed (m/s)\",orientation='horizontal')\n",
    "ax.coastlines(resolution='10m',color='k')\n",
    "plt.tight_layout()"
   ]
  },
  {
   "cell_type": "code",
   "execution_count": null,
   "metadata": {},
   "outputs": [],
   "source": [
    "#calculate var vectors \n",
    "varMag=np.sqrt(data['u_var']**2+data['v_var']**2)\n",
    "varDir=np.rad2deg(np.arctan2(data['v_var'],data['u_var']))\n"
   ]
  },
  {
   "cell_type": "code",
   "execution_count": null,
   "metadata": {},
   "outputs": [],
   "source": [
    "fig=plt.figure(figsize=(12,12))\n",
    "ax = plt.axes(projection=crs.PlateCarree())\n",
    "ax.gridlines(linewidth=.5, color='gray', alpha=0.5, linestyle='-')\n",
    "\n",
    "ax.set_title('Surface Current Mean')\n",
    "ax.set_extent([-122.5,-117,32.5,37])\n",
    "CF=ax.contourf(lon,lat,varMag,12,norm=colors.PowerNorm(gamma=1./2.),cmap='jet')\n",
    "ax.contour(lon,lat,varMag,12)\n",
    "ax.quiver(lon,lat,data['u_var'],data['v_var'],headlength=6,headwidth=3,pivot='mid',scale=8)\n",
    "ax.add_feature(feature.NaturalEarthFeature('physical', 'land', '10m', edgecolor='face',facecolor=feature.COLORS['land']))\n",
    "plt.colorbar(CF,label=\"Speed (m/s)\",orientation='horizontal')\n",
    "ax.coastlines(resolution='10m',color='k')\n",
    "plt.tight_layout()"
   ]
  },
  {
   "cell_type": "code",
   "execution_count": null,
   "metadata": {},
   "outputs": [],
   "source": []
  },
  {
   "cell_type": "code",
   "execution_count": null,
   "metadata": {},
   "outputs": [],
   "source": []
  }
 ],
 "metadata": {
  "anaconda-cloud": {},
  "kernelspec": {
   "display_name": "Python 3",
   "language": "python",
   "name": "python3"
  },
  "language_info": {
   "codemirror_mode": {
    "name": "ipython",
    "version": 3
   },
   "file_extension": ".py",
   "mimetype": "text/x-python",
   "name": "python",
   "nbconvert_exporter": "python",
   "pygments_lexer": "ipython3",
   "version": "3.6.4"
  }
 },
 "nbformat": 4,
 "nbformat_minor": 1
}
