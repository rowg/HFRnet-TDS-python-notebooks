{
 "cells": [
  {
   "cell_type": "markdown",
   "metadata": {},
   "source": [
    "# This notebook shows an example of loading the latest USWC real time vector product from [HFRnet THREDDS server](http://hfrnet-tds.ucsd.edu/thredds/catalog.html)\n",
    "\n",
    "Call %matplotlib inline to have plots shown inline in the notebook\n",
    "\n",
    "%matplotlib inline must be called before any other packages are imported"
   ]
  },
  {
   "cell_type": "code",
   "execution_count": 1,
   "metadata": {},
   "outputs": [],
   "source": [
    "%matplotlib inline"
   ]
  },
  {
   "cell_type": "code",
   "execution_count": 2,
   "metadata": {},
   "outputs": [],
   "source": [
    "from netCDF4 import Dataset\n",
    "import netCDF4 as netcdf\n",
    "import numpy as np\n",
    "from cartopy import crs,feature\n",
    "import matplotlib.pyplot as plt"
   ]
  },
  {
   "cell_type": "code",
   "execution_count": 3,
   "metadata": {},
   "outputs": [
    {
     "data": {
      "text/plain": [
       "'4.6.2 of Dec 22 2018 22:51:02 $'"
      ]
     },
     "execution_count": 3,
     "metadata": {},
     "output_type": "execute_result"
    }
   ],
   "source": [
    "netcdf.getlibversion()"
   ]
  },
  {
   "cell_type": "markdown",
   "metadata": {},
   "source": [
    "### load 6km USWC RTV dataset through THREDDS <br>Some other datasets are shown as commented lines below\n",
    "You must adjust your map parameters if you change regions"
   ]
  },
  {
   "cell_type": "code",
   "execution_count": 4,
   "metadata": {},
   "outputs": [],
   "source": [
    "#USWC region\n",
    "#netcdf_data = Dataset('http://hfrnet-tds.ucsd.edu/thredds/dodsC/HFR/USEGC/2km/hourly/RTV/HFRADAR_US_East_and_Gulf_Coast_2km_Resolution_Hourly_RTV_best.ncd')\n",
    "netcdf_data = Dataset('http://hfrnet-tds.ucsd.edu/thredds/dodsC/HFR/USWC/6km/hourly/RTV/HFRADAR_US_West_Coast_6km_Resolution_Hourly_RTV_best.ncd')\n",
    "#netcdf_data = Dataset('http://hfrnet-tds.ucsd.edu/thredds/dodsC/HFR/USWC/1km/hourly/RTV/HFRADAR_US_West_Coast_1km_Resolution_Hourly_RTV_best.ncd')\n",
    "#netcdf_data = Dataset('http://hfrnet-tds.ucsd.edu/thredds/dodsC/HFR/USWC/2km/hourly/RTV/HFRADAR_US_West_Coast_2km_Resolution_Hourly_RTV_best.ncd')\n"
   ]
  },
  {
   "cell_type": "markdown",
   "metadata": {},
   "source": [
    "### list variables and dimensions"
   ]
  },
  {
   "cell_type": "code",
   "execution_count": 5,
   "metadata": {},
   "outputs": [
    {
     "name": "stdout",
     "output_type": "stream",
     "text": [
      "lat (367,)\n",
      "lon (234,)\n",
      "time (66629,)\n",
      "time_run (66629,)\n",
      "site_lat (61,)\n",
      "site_lon (61,)\n",
      "site_code (61, 64)\n",
      "site_netCode (61, 64)\n",
      "procParams (7,)\n",
      "time_offset (66629,)\n",
      "u (66629, 367, 234)\n",
      "v (66629, 367, 234)\n",
      "DOPx (66629, 367, 234)\n",
      "DOPy (66629, 367, 234)\n"
     ]
    }
   ],
   "source": [
    "for variable in netcdf_data.variables:\n",
    "    print(variable,netcdf_data.variables[variable].shape)"
   ]
  },
  {
   "cell_type": "markdown",
   "metadata": {},
   "source": [
    "### Show variable information"
   ]
  },
  {
   "cell_type": "code",
   "execution_count": 6,
   "metadata": {},
   "outputs": [
    {
     "name": "stdout",
     "output_type": "stream",
     "text": [
      "<class 'netCDF4._netCDF4.Variable'>\n",
      "float32 u(time, lat, lon)\n",
      "    units: m s-1\n",
      "    long_name: surface_eastward_sea_water_velocity\n",
      "    standard_name: surface_eastward_sea_water_velocity\n",
      "    ancillary_variables: DOPx\n",
      "    _ChunkSizes: [  1 367 234]\n",
      "    coordinates: time_run time lat lon \n",
      "unlimited dimensions: \n",
      "current shape = (66629, 367, 234)\n",
      "filling off\n",
      "\n",
      "<class 'netCDF4._netCDF4.Variable'>\n",
      "float32 v(time, lat, lon)\n",
      "    units: m s-1\n",
      "    long_name: surface_northward_sea_water_velocity\n",
      "    standard_name: surface_northward_sea_water_velocity\n",
      "    ancillary_variables: DOPy\n",
      "    _ChunkSizes: [  1 367 234]\n",
      "    coordinates: time_run time lat lon \n",
      "unlimited dimensions: \n",
      "current shape = (66629, 367, 234)\n",
      "filling off\n",
      "\n"
     ]
    }
   ],
   "source": [
    "print(netcdf_data.variables['u'])\n",
    "print(netcdf_data.variables['v'])"
   ]
  },
  {
   "cell_type": "markdown",
   "metadata": {},
   "source": [
    "### Grab lat, lon and time variables from dataset"
   ]
  },
  {
   "cell_type": "code",
   "execution_count": 7,
   "metadata": {},
   "outputs": [],
   "source": [
    "lat=netcdf_data.variables['lat'][:]\n",
    "lon=netcdf_data.variables['lon'][:]\n",
    "time=netcdf_data.variables['time'][:]"
   ]
  },
  {
   "cell_type": "markdown",
   "metadata": {},
   "source": [
    "### The index for the latest time is the length of the time array <br> However, the latest time typically is incomplete and it is best to go back 2 or 3 hours\n"
   ]
  },
  {
   "cell_type": "code",
   "execution_count": 8,
   "metadata": {},
   "outputs": [],
   "source": [
    "latest_time_index=int(len(time))-5"
   ]
  },
  {
   "cell_type": "markdown",
   "metadata": {},
   "source": [
    "### Note that Thredds has weird time basis \n"
   ]
  },
  {
   "cell_type": "code",
   "execution_count": 9,
   "metadata": {},
   "outputs": [
    {
     "name": "stdout",
     "output_type": "stream",
     "text": [
      "hours since 2011-10-01 00:00:00.000 UTC\n"
     ]
    }
   ],
   "source": [
    "print(netcdf_data.variables['time'].units)"
   ]
  },
  {
   "cell_type": "markdown",
   "metadata": {},
   "source": [
    "### This loads u & v current component data <br> Note the indexing is [time, latitude, longitude]"
   ]
  },
  {
   "cell_type": "code",
   "execution_count": 10,
   "metadata": {},
   "outputs": [],
   "source": [
    "u=netcdf_data.variables['u'][latest_time_index,:,:];\n",
    "v=netcdf_data.variables['v'][latest_time_index,:,:];"
   ]
  },
  {
   "cell_type": "markdown",
   "metadata": {},
   "source": [
    "### Calculate current magnitude"
   ]
  },
  {
   "cell_type": "code",
   "execution_count": 11,
   "metadata": {},
   "outputs": [],
   "source": [
    "CurrMag=np.sqrt(u**2+v**2)"
   ]
  },
  {
   "cell_type": "markdown",
   "metadata": {},
   "source": [
    "### print the maximum current magnitude\n",
    "np.nanmax refers to a NumPy function that finds max of non-nan values"
   ]
  },
  {
   "cell_type": "code",
   "execution_count": 12,
   "metadata": {},
   "outputs": [
    {
     "name": "stdout",
     "output_type": "stream",
     "text": [
      "0.81055534\n"
     ]
    }
   ],
   "source": [
    "print(np.nanmax(CurrMag))"
   ]
  },
  {
   "cell_type": "markdown",
   "metadata": {},
   "source": [
    "### Set geographical limits for the map"
   ]
  },
  {
   "cell_type": "code",
   "execution_count": 13,
   "metadata": {},
   "outputs": [],
   "source": [
    "latMax=37.0\n",
    "latMin=32.5\n",
    "lonMax=-117.0\n",
    "lonMin=-123.0"
   ]
  },
  {
   "cell_type": "markdown",
   "metadata": {},
   "source": [
    "### Plot latest vectors"
   ]
  },
  {
   "cell_type": "code",
   "execution_count": null,
   "metadata": {},
   "outputs": [],
   "source": [
    "# Set up plot\n",
    "fig=plt.figure(figsize=(12,12))\n",
    "ax1=plt.axes(projection=crs.PlateCarree())\n",
    "ax1.gridlines(linewidth=.5, color='gray', alpha=0.5, linestyle='-')\n",
    "ax1.set_title('Latest RTV USWC')\n",
    "ax1.set_extent([lonMin, lonMax, latMin, latMax])\n",
    "\n",
    "# convert the lat/lon values to x/y projections.\n",
    "x, y = np.meshgrid(lon,lat)\n",
    "\n",
    "# mask data\n",
    "data_m = np.ma.masked_invalid(CurrMag)\n",
    "u_m = np.ma.masked_invalid(u)\n",
    "v_m = np.ma.masked_invalid(v)\n",
    "\n",
    "#  plot current vectors\n",
    "CF=ax1.quiver(x,y,u,v,data_m,cmap=plt.cm.jet,scale=12,width=.001)\n",
    "plt.colorbar(CF,label=\"Speed (m/s)\",orientation='horizontal')\n",
    "\n",
    "# plot landmass\n",
    "ax1.add_feature(feature.NaturalEarthFeature('physical', 'land', '10m', edgecolor='face',facecolor=feature.COLORS['land']))\n",
    "ax1.coastlines(resolution='10m',color='k')\n",
    "plt.tight_layout()"
   ]
  },
  {
   "cell_type": "code",
   "execution_count": 15,
   "metadata": {},
   "outputs": [
    {
     "data": {
      "text/plain": [
       "masked_array(data=[0.0000e+00, 1.0000e+00, 2.0000e+00, ..., 6.6164e+04,\n",
       "                   6.6165e+04, 6.6166e+04],\n",
       "             mask=False,\n",
       "       fill_value=1e+20)"
      ]
     },
     "execution_count": 15,
     "metadata": {},
     "output_type": "execute_result"
    }
   ],
   "source": [
    "time"
   ]
  },
  {
   "cell_type": "code",
   "execution_count": 17,
   "metadata": {},
   "outputs": [
    {
     "data": {
      "text/plain": [
       "5000.0"
      ]
     },
     "execution_count": 17,
     "metadata": {},
     "output_type": "execute_result"
    }
   ],
   "source": [
    "time[5000]"
   ]
  },
  {
   "cell_type": "code",
   "execution_count": null,
   "metadata": {},
   "outputs": [],
   "source": []
  }
 ],
 "metadata": {
  "anaconda-cloud": {},
  "kernelspec": {
   "display_name": "Python 3",
   "language": "python",
   "name": "python3"
  },
  "language_info": {
   "codemirror_mode": {
    "name": "ipython",
    "version": 3
   },
   "file_extension": ".py",
   "mimetype": "text/x-python",
   "name": "python",
   "nbconvert_exporter": "python",
   "pygments_lexer": "ipython3",
   "version": "3.7.0"
  }
 },
 "nbformat": 4,
 "nbformat_minor": 1
}
